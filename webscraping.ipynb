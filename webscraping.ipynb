{
 "cells": [
  {
   "cell_type": "code",
   "execution_count": 1,
   "id": "237abd67",
   "metadata": {},
   "outputs": [
    {
     "name": "stdout",
     "output_type": "stream",
     "text": [
      "Requirement already satisfied: bs4 in /home/jupyterlab/conda/envs/python/lib/python3.6/site-packages (0.0.1)\n",
      "Requirement already satisfied: beautifulsoup4 in /home/jupyterlab/conda/envs/python/lib/python3.6/site-packages (from bs4) (4.9.3)\n",
      "Requirement already satisfied: soupsieve>1.2; python_version >= \"3.0\" in /home/jupyterlab/conda/envs/python/lib/python3.6/site-packages (from beautifulsoup4->bs4) (2.2.1)\n",
      "Requirement already satisfied: requests in /home/jupyterlab/conda/envs/python/lib/python3.6/site-packages (2.25.1)\n",
      "Requirement already satisfied: idna<3,>=2.5 in /home/jupyterlab/conda/envs/python/lib/python3.6/site-packages (from requests) (2.10)\n",
      "Requirement already satisfied: urllib3<1.27,>=1.21.1 in /home/jupyterlab/conda/envs/python/lib/python3.6/site-packages (from requests) (1.26.4)\n",
      "Requirement already satisfied: certifi>=2017.4.17 in /home/jupyterlab/conda/envs/python/lib/python3.6/site-packages (from requests) (2020.12.5)\n",
      "Requirement already satisfied: chardet<5,>=3.0.2 in /home/jupyterlab/conda/envs/python/lib/python3.6/site-packages (from requests) (4.0.0)\n"
     ]
    }
   ],
   "source": [
    "!pip install bs4\n",
    "!pip install requests"
   ]
  },
  {
   "cell_type": "markdown",
   "id": "1a4d9bc8",
   "metadata": {},
   "source": [
    "<h2 id=\"BSO\">Beautiful Soup Objects</h2>\n"
   ]
  },
  {
   "cell_type": "code",
   "execution_count": 2,
   "id": "16d79389",
   "metadata": {},
   "outputs": [],
   "source": [
    "from bs4 import BeautifulSoup\n",
    "import requests"
   ]
  },
  {
   "cell_type": "code",
   "execution_count": 3,
   "id": "b75c175d",
   "metadata": {},
   "outputs": [],
   "source": [
    "html=\"<!DOCTYPE html><html><head><title>Page Title</title></head><body><h3><b id='boldest'>Lebron James</b></h3><p> Salary: $ 92,000,000 </p><h3> Stephen Curry</h3><p> Salary: $85,000, 000 </p><h3> Kevin Durant </h3><p> Salary: $73,200, 000</p></body></html>\"\n"
   ]
  },
  {
   "cell_type": "code",
   "execution_count": 4,
   "id": "1f8f49ec",
   "metadata": {},
   "outputs": [
    {
     "name": "stdout",
     "output_type": "stream",
     "text": [
      "<!DOCTYPE html>\n",
      "<html>\n",
      " <head>\n",
      "  <title>\n",
      "   Page Title\n",
      "  </title>\n",
      " </head>\n",
      " <body>\n",
      "  <h3>\n",
      "   <b id=\"boldest\">\n",
      "    Lebron James\n",
      "   </b>\n",
      "  </h3>\n",
      "  <p>\n",
      "   Salary: $ 92,000,000\n",
      "  </p>\n",
      "  <h3>\n",
      "   Stephen Curry\n",
      "  </h3>\n",
      "  <p>\n",
      "   Salary: $85,000, 000\n",
      "  </p>\n",
      "  <h3>\n",
      "   Kevin Durant\n",
      "  </h3>\n",
      "  <p>\n",
      "   Salary: $73,200, 000\n",
      "  </p>\n",
      " </body>\n",
      "</html>\n"
     ]
    }
   ],
   "source": [
    "soup=BeautifulSoup(html,'html5lib')\n",
    "print(soup.prettify())"
   ]
  },
  {
   "cell_type": "markdown",
   "id": "27f5b820",
   "metadata": {},
   "source": [
    "## Tags\n"
   ]
  },
  {
   "cell_type": "code",
   "execution_count": 5,
   "id": "888fdf84",
   "metadata": {},
   "outputs": [
    {
     "data": {
      "text/plain": [
       "<p> Salary: $85,000, 000 </p>"
      ]
     },
     "execution_count": 5,
     "metadata": {},
     "output_type": "execute_result"
    }
   ],
   "source": [
    "#Using the object <code>sibling_2</code> and the method <code>next_sibling</code> to find the salary of Stephen Curry:\n",
    "tag_object=soup.p\n",
    "tag_object\n",
    "sibling_1=tag_object.next_sibling\n",
    "sibling_1\n",
    "sibling_2=sibling_1.next_sibling\n",
    "sibling_2"
   ]
  },
  {
   "cell_type": "code",
   "execution_count": 6,
   "id": "bffb06a2",
   "metadata": {},
   "outputs": [],
   "source": [
    "soup.get('id')\n"
   ]
  },
  {
   "cell_type": "code",
   "execution_count": 7,
   "id": "b9bf4dea",
   "metadata": {},
   "outputs": [
    {
     "data": {
      "text/plain": [
       "' Stephen Curry'"
      ]
     },
     "execution_count": 7,
     "metadata": {},
     "output_type": "execute_result"
    }
   ],
   "source": [
    "tag_string=sibling_1.string\n",
    "tag_string"
   ]
  },
  {
   "cell_type": "markdown",
   "id": "198dcdca",
   "metadata": {},
   "source": [
    "<h2 id=\"filter\">Filter</h2>\n"
   ]
  },
  {
   "cell_type": "code",
   "execution_count": 8,
   "id": "29a41ab0",
   "metadata": {},
   "outputs": [
    {
     "data": {
      "text/plain": [
       "[<tr><td id=\"flight\">Flight No</td><td>Launch site</td> <td>Payload mass</td></tr>,\n",
       " <tr> <td>1</td><td><a href=\"https://en.wikipedia.org/wiki/Florida\">Florida</a><a></a></td><td>300 kg</td></tr>,\n",
       " <tr><td>2</td><td><a href=\"https://en.wikipedia.org/wiki/Texas\">Texas</a></td><td>94 kg</td></tr>,\n",
       " <tr><td>3</td><td><a href=\"https://en.wikipedia.org/wiki/Florida\">Florida</a><a> </a></td><td>80 kg</td></tr>]"
      ]
     },
     "execution_count": 8,
     "metadata": {},
     "output_type": "execute_result"
    }
   ],
   "source": [
    "# filtering by find_all\n",
    "table=\"<table><tr><td id='flight'>Flight No</td><td>Launch site</td> <td>Payload mass</td></tr><tr> <td>1</td><td><a href='https://en.wikipedia.org/wiki/Florida'>Florida<a></td><td>300 kg</td></tr><tr><td>2</td><td><a href='https://en.wikipedia.org/wiki/Texas'>Texas</a></td><td>94 kg</td></tr><tr><td>3</td><td><a href='https://en.wikipedia.org/wiki/Florida'>Florida<a> </td><td>80 kg</td></tr></table>\"\n",
    "table_bs=BeautifulSoup(table,'html5lib')\n",
    "table_rows=table_bs.find_all('tr')\n",
    "table_rows"
   ]
  },
  {
   "cell_type": "code",
   "execution_count": 9,
   "id": "b29dffd3",
   "metadata": {},
   "outputs": [
    {
     "data": {
      "text/plain": [
       "<tr><td id=\"flight\">Flight No</td><td>Launch site</td> <td>Payload mass</td></tr>"
      ]
     },
     "execution_count": 9,
     "metadata": {},
     "output_type": "execute_result"
    }
   ],
   "source": [
    "first_row=table_rows[0]\n",
    "first_row"
   ]
  },
  {
   "cell_type": "code",
   "execution_count": 10,
   "id": "44ece726",
   "metadata": {},
   "outputs": [
    {
     "data": {
      "text/plain": [
       "<td id=\"flight\">Flight No</td>"
      ]
     },
     "execution_count": 10,
     "metadata": {},
     "output_type": "execute_result"
    }
   ],
   "source": [
    "first_row.td"
   ]
  },
  {
   "cell_type": "code",
   "execution_count": 11,
   "id": "61488f25",
   "metadata": {},
   "outputs": [
    {
     "name": "stdout",
     "output_type": "stream",
     "text": [
      "row 0 is <tr><td id=\"flight\">Flight No</td><td>Launch site</td> <td>Payload mass</td></tr>\n",
      "column 0 cell <td id=\"flight\">Flight No</td>\n",
      "column 1 cell <td>Launch site</td>\n",
      "column 2 cell <td>Payload mass</td>\n",
      "row 1 is <tr> <td>1</td><td><a href=\"https://en.wikipedia.org/wiki/Florida\">Florida</a><a></a></td><td>300 kg</td></tr>\n",
      "column 0 cell <td>1</td>\n",
      "column 1 cell <td><a href=\"https://en.wikipedia.org/wiki/Florida\">Florida</a><a></a></td>\n",
      "column 2 cell <td>300 kg</td>\n",
      "row 2 is <tr><td>2</td><td><a href=\"https://en.wikipedia.org/wiki/Texas\">Texas</a></td><td>94 kg</td></tr>\n",
      "column 0 cell <td>2</td>\n",
      "column 1 cell <td><a href=\"https://en.wikipedia.org/wiki/Texas\">Texas</a></td>\n",
      "column 2 cell <td>94 kg</td>\n",
      "row 3 is <tr><td>3</td><td><a href=\"https://en.wikipedia.org/wiki/Florida\">Florida</a><a> </a></td><td>80 kg</td></tr>\n",
      "column 0 cell <td>3</td>\n",
      "column 1 cell <td><a href=\"https://en.wikipedia.org/wiki/Florida\">Florida</a><a> </a></td>\n",
      "column 2 cell <td>80 kg</td>\n"
     ]
    }
   ],
   "source": [
    "for i,row in enumerate(table_rows):\n",
    "    print(\"row\",i,\"is\",row)\n",
    "    cells=row.find_all('td')\n",
    "    for j,cell in enumerate(cells):\n",
    "        print('column',j,\"cell\", cell)\n",
    "    "
   ]
  },
  {
   "cell_type": "code",
   "execution_count": 12,
   "id": "9ecc3523",
   "metadata": {},
   "outputs": [
    {
     "data": {
      "text/plain": [
       "[<td id=\"flight\">Flight No</td>]"
      ]
     },
     "execution_count": 12,
     "metadata": {},
     "output_type": "execute_result"
    }
   ],
   "source": [
    "table_bs.find_all(id=\"flight\")"
   ]
  },
  {
   "cell_type": "code",
   "execution_count": 13,
   "id": "8f8b71f5",
   "metadata": {},
   "outputs": [
    {
     "data": {
      "text/plain": [
       "[<a href=\"https://en.wikipedia.org/wiki/Florida\">Florida</a>,\n",
       " <a href=\"https://en.wikipedia.org/wiki/Florida\">Florida</a>]"
      ]
     },
     "execution_count": 13,
     "metadata": {},
     "output_type": "execute_result"
    }
   ],
   "source": [
    "table_bs.find_all(href=\"https://en.wikipedia.org/wiki/Florida\")"
   ]
  },
  {
   "cell_type": "code",
   "execution_count": 14,
   "id": "a9b7f174",
   "metadata": {},
   "outputs": [
    {
     "data": {
      "text/plain": [
       "[<a href=\"https://en.wikipedia.org/wiki/Florida\">Florida</a>,\n",
       " <a href=\"https://en.wikipedia.org/wiki/Texas\">Texas</a>,\n",
       " <a href=\"https://en.wikipedia.org/wiki/Florida\">Florida</a>]"
      ]
     },
     "execution_count": 14,
     "metadata": {},
     "output_type": "execute_result"
    }
   ],
   "source": [
    "table_bs.find_all(href=True)"
   ]
  },
  {
   "cell_type": "code",
   "execution_count": 15,
   "id": "0468b19e",
   "metadata": {},
   "outputs": [
    {
     "data": {
      "text/plain": [
       "[<html><head></head><body><table><tbody><tr><td id=\"flight\">Flight No</td><td>Launch site</td> <td>Payload mass</td></tr><tr> <td>1</td><td><a href=\"https://en.wikipedia.org/wiki/Florida\">Florida</a><a></a></td><td>300 kg</td></tr><tr><td>2</td><td><a href=\"https://en.wikipedia.org/wiki/Texas\">Texas</a></td><td>94 kg</td></tr><tr><td>3</td><td><a href=\"https://en.wikipedia.org/wiki/Florida\">Florida</a><a> </a></td><td>80 kg</td></tr></tbody></table></body></html>,\n",
       " <head></head>,\n",
       " <body><table><tbody><tr><td id=\"flight\">Flight No</td><td>Launch site</td> <td>Payload mass</td></tr><tr> <td>1</td><td><a href=\"https://en.wikipedia.org/wiki/Florida\">Florida</a><a></a></td><td>300 kg</td></tr><tr><td>2</td><td><a href=\"https://en.wikipedia.org/wiki/Texas\">Texas</a></td><td>94 kg</td></tr><tr><td>3</td><td><a href=\"https://en.wikipedia.org/wiki/Florida\">Florida</a><a> </a></td><td>80 kg</td></tr></tbody></table></body>,\n",
       " <table><tbody><tr><td id=\"flight\">Flight No</td><td>Launch site</td> <td>Payload mass</td></tr><tr> <td>1</td><td><a href=\"https://en.wikipedia.org/wiki/Florida\">Florida</a><a></a></td><td>300 kg</td></tr><tr><td>2</td><td><a href=\"https://en.wikipedia.org/wiki/Texas\">Texas</a></td><td>94 kg</td></tr><tr><td>3</td><td><a href=\"https://en.wikipedia.org/wiki/Florida\">Florida</a><a> </a></td><td>80 kg</td></tr></tbody></table>,\n",
       " <tbody><tr><td id=\"flight\">Flight No</td><td>Launch site</td> <td>Payload mass</td></tr><tr> <td>1</td><td><a href=\"https://en.wikipedia.org/wiki/Florida\">Florida</a><a></a></td><td>300 kg</td></tr><tr><td>2</td><td><a href=\"https://en.wikipedia.org/wiki/Texas\">Texas</a></td><td>94 kg</td></tr><tr><td>3</td><td><a href=\"https://en.wikipedia.org/wiki/Florida\">Florida</a><a> </a></td><td>80 kg</td></tr></tbody>,\n",
       " <tr><td id=\"flight\">Flight No</td><td>Launch site</td> <td>Payload mass</td></tr>,\n",
       " <td id=\"flight\">Flight No</td>,\n",
       " <td>Launch site</td>,\n",
       " <td>Payload mass</td>,\n",
       " <tr> <td>1</td><td><a href=\"https://en.wikipedia.org/wiki/Florida\">Florida</a><a></a></td><td>300 kg</td></tr>,\n",
       " <td>1</td>,\n",
       " <td><a href=\"https://en.wikipedia.org/wiki/Florida\">Florida</a><a></a></td>,\n",
       " <a></a>,\n",
       " <td>300 kg</td>,\n",
       " <tr><td>2</td><td><a href=\"https://en.wikipedia.org/wiki/Texas\">Texas</a></td><td>94 kg</td></tr>,\n",
       " <td>2</td>,\n",
       " <td><a href=\"https://en.wikipedia.org/wiki/Texas\">Texas</a></td>,\n",
       " <td>94 kg</td>,\n",
       " <tr><td>3</td><td><a href=\"https://en.wikipedia.org/wiki/Florida\">Florida</a><a> </a></td><td>80 kg</td></tr>,\n",
       " <td>3</td>,\n",
       " <td><a href=\"https://en.wikipedia.org/wiki/Florida\">Florida</a><a> </a></td>,\n",
       " <a> </a>,\n",
       " <td>80 kg</td>]"
      ]
     },
     "execution_count": 15,
     "metadata": {},
     "output_type": "execute_result"
    }
   ],
   "source": [
    "#find all the elements without href value\n",
    "\n",
    "table_bs.find_all(href=False)"
   ]
  },
  {
   "cell_type": "code",
   "execution_count": 16,
   "id": "53f91da3",
   "metadata": {},
   "outputs": [
    {
     "data": {
      "text/plain": [
       "[<b id=\"boldest\">Lebron James</b>]"
      ]
     },
     "execution_count": 16,
     "metadata": {},
     "output_type": "execute_result"
    }
   ],
   "source": [
    "#Using the soup object soup, find the element with the id attribute content set to \"boldest\".capitaliz\n",
    "soup=BeautifulSoup(html,'html5lib')\n",
    "soup.find_all(id='boldest')\n"
   ]
  },
  {
   "cell_type": "code",
   "execution_count": 17,
   "id": "35e69049",
   "metadata": {},
   "outputs": [
    {
     "name": "stdout",
     "output_type": "stream",
     "text": [
      "https://www.ibm.com/ca/en\n",
      "\n",
      "https://www.ibm.com/ca-en/products?lnk=hpmps_bupr_caen&lnk2=link\n",
      "https://www.ibm.com/industries?lnk=hpmps_buin_caen&lnk2=link\n",
      "https://www.ibm.com/artificial-intelligence?lnk=hpmps_buai_caen&lnk2=link\n",
      "https://www.ibm.com/automation?lnk=hpmps_buau_caen&lnk2=link\n",
      "https://www.ibm.com/blockchain?lnk=hpmps_bubc_caen&lnk2=link\n",
      "https://www.ibm.com/business-operations?lnk=hpmps_buop_caen&lnk2=link\n",
      "https://www.ibm.com/cloud?lnk=hpmps_bucl_caen&lnk2=link\n",
      "https://www.ibm.com/analytics?lnk=hpmps_buda_caen&lnk2=link\n",
      "https://www.ibm.com/it-infrastructure?lnk=hpmps_buit_caen&lnk2=link\n",
      "https://www.ibm.com/security?lnk=hpmps_buse_caen&lnk2=link\n",
      "https://www.ibm.com/supply-chain?lnk=hpmps_busc_caen&lnk2=link\n",
      "https://www.ibm.com/financing?lnk=hpmps_bufi_caen&lnk2=link\n",
      "https://www.ibm.com/ca-en/products?lnk=hpmps_buall_caen&lnk2=link\n",
      "\n",
      "https://www.ibm.com/services/process?lnk=hpmsc_bups_caen&lnk2=link\n",
      "https://www.ibm.com/services/ibmix/?lnk=hpmsc_budbs_caen&lnk2=link\n",
      "https://www.ibm.com/services/cloud?lnk=hpmsc_buhs?lnk=hpmsc_buhs_caen\n",
      "https://www.ibm.com/talent-management?lnk=hpmsc_buta_caen&lnk2=link\n",
      "https://www.ibm.com/services/applications?lnk=hpmsc_buas_caen&lnk2=link\n",
      "https://www.ibm.com/garage?lnk=hpmsc_buas_caen&lnk2=link\n",
      "https://www.ibm.com/security/services?lnk=hpmsc_buse_caen&lnk2=link\n",
      "https://www.ibm.com/services/technology-support?lnk=hpmsc_busv_caen&lnk2=link\n",
      "https://www.ibm.com/financing/solutions/it-services-financing?lnk=hpmsc_bufi_caen&lnk2=link\n",
      "https://www.ibm.com/services?lnk=hpmsc_buall_caen&lnk2=link\n",
      "\n",
      "https://www.ibm.com/support/ca/en/?lnk=hpmls_busu_caen&lnk2=link\n",
      "https://www.ibm.com/support/knowledgecenter/?lnk=hpmls_budc_caen&lnk2=link\n",
      "https://developer.ibm.com/?lnk=hpmls_bude_caen&lnk2=link\n",
      "https://www.ibm.com/training/?lnk=hpmls_butr_caen&lnk2=link\n",
      "https://www.ibm.com/blogs/?lnk=hpmls_bure_caen&lnk2=link\n",
      "https://www.ibm.com/cloud/learn?lnk=hpmls_buwi_caen&lnk2=link\n",
      "\n",
      "https://www.ibm.com/partnerworld/public?lnk=hpmex_bupa_caen&lnk2=link\n",
      "https://www.research.ibm.com/?lnk=hpmex_bure_caen&lnk2=link\n",
      "https://www.ibm.com/about?lnk=hpmex_buab_caen&lnk2=link\n",
      "https://www.ibm.com/impact/covid-19?lnk=hpmex_buco_caen&lnk2=link\n",
      "https://www.ibm.com/sitemap/ca/en\n",
      "/ca-en/node/1706826\n",
      "https://www.ibm.com/blogs/ibm-canada/2021/03/hybrid-cloud-the-new-normal-for-enterprise-transformation/?utm_medium=OSocial&utm_source=Blog&utm_content=000039VE&utm_term=10007446&utm_id=Hybrid-Cloud-Blog-EN%3Flnk%3Dhpv18l2\n",
      "https://1.dam.s81c.com/public/content/dam/worldwide-content/homepage/ul/g/c7/fa/Coca-cola_CA_Homepage_Leadspace_Desktop.jpg\n",
      "https://1.dam.s81c.com/public/content/dam/worldwide-content/homepage/ul/g/16/1f/Coca-Cola_CA_Homepage_Leadspace_Mobile.jpg\n",
      "https://1.dam.s81c.com/m/7401c562cef06861/original/Culinary_think.jpg\n",
      "https://www.ibm.com/case-studies/coca-cola-european-partners-1/?utm_medium=OSocial&utm_source=Blog&utm_content=000040UV&utm_term=10014626&utm_id=SocialLeadDHCocoColaCaseStudyCloud-Homepage%3Flnk%3Dhpv18l1\n",
      "/taxonomy/term/85416\n",
      "/ca-en/node/2384286\n",
      "https://www.ibm.com/kyndryl?lnk=hpv18nf\n",
      "/taxonomy/term/85416\n",
      "/ca-en/node/1706851\n",
      "/ca-en/node/1706846\n",
      "/ca-en/node/1706831\n",
      "/ca-en/node/1706836\n",
      "/ca-en/node/1706841\n",
      "/taxonomy/term/85416\n",
      "/ca-en/node/1706821\n",
      "/taxonomy/term/85416\n",
      "https://www.ibm.com/employment/ca/en/?lnk=fab\n",
      "/ca-en/node/1706816\n",
      "https://www.ibm.com/ca-en/products/offers-and-discounts?link=caenhpv18t5&lnk2=trial_mktpl_MPDISC\n",
      "/ca-en/node/1706801\n",
      "/ca-en/node/2281350\n",
      "/ca-en/node/2281352\n",
      "/ca-en/node/1706796\n",
      "/taxonomy/term/85416\n",
      "/ca-en/node/1706866\n",
      "/ca-en/node/1706861\n",
      "/taxonomy/term/85416\n",
      "/ca-en/products\n",
      "https://www.ibm.com/case-studies/coca-cola-european-partners-1/?utm_medium=OSocial&utm_source=Blog&utm_content=000040UV&utm_term=10014626&utm_id=SocialLeadDHCocoColaCaseStudyCloud-Homepage%3Flnk%3Dhpv18l1\n",
      "https://www.ibm.com/case-studies/coca-cola-european-partners-1/?utm_medium=OSocial&utm_source=Blog&utm_content=000040UV&utm_term=10014626&utm_id=SocialLeadDHCocoColaCaseStudyCloud-Homepage%3Flnk%3Dhpv18l1\n",
      "https://www.ibm.com/kyndryl?lnk=hpv18nf\n",
      "https://www.ibm.com/cloud/financial-services?utm_medium=OSocial&utm_source=Blog&utm_content=000040UV&utm_term=10014626&utm_id=SocialLeadDHIBMCloudFSLaunch-Homepage%3Flnk%3Dhpv18f1\n",
      "https://newsroom.ibm.com/2021-03-11-IBM-Positioned-as-a-Leader-in-Two-Newly-Released-Gartner-Magic-Quadrant-Reports?utm_medium=OSocial&utm_source=Blog&utm_content=000040UV&utm_term=10014626&utm_id=SocialLeadDHGartnerMagicQuadNewsroom-Homepage%3Flnk%3Dhpv18f2\n",
      "https://www.ibm.com/case-studies/north-york-general-hospital-hybrid-cloud-cognos-analytics/?utm_medium=OSocial&utm_source=Blog&utm_content=000040UV&utm_term=10014626&utm_id=SocialLeadDHNorthYorkGeneralCloud-HOMEPAGE%3Flnk%3Dhpv18f3\n",
      "https://developer.ibm.com/conferences/digital-developer-conference-ai-automation-integration/?utm_medium=OSocial&utm_source=Blog&utm_content=000040UV&utm_term=10014626&utm_id=SQUADDataAIDeveloperConferenceApr20-Homepage%3Flnk%3Dhpv18f4\n",
      "https://www.ibm.com/ca-en/products/offers-and-discounts?link=caenhpv18t5&lnk2=trial_mktpl_MPDISC\n",
      "https://www.instana.com/how-instana-dynamic-apm-works/\n",
      "https://www.ibm.com/ca-en/products/cognos-analytics?lnk=STW_CA_HPT_T2_BLK&psrc=NONE&pexp=DEF&lnk2=trial_CogAnalytics\n",
      "https://www.ibm.com/products/cloud-pak-for-data?lnk=STW_CA_HPT_T3_BLK&psrc=NONE&pexp=DEF&lnk2=trial_CloudPakData\n",
      "https://www.ibm.com/ca-en/products/maximo?lnk=STW_CA_HPT_T4_BLK&psrc=NONE&pexp=DEF&lnk2=trial_Maximo\n",
      "https://www.ibm.com/search?lang=en&amp;cc=ca&amp;q=\n",
      "/ca-en/products\n",
      "/ca-en/products\n",
      "//www.ibm.com/ca-en/products/category/technology/analytics\n",
      "//www.ibm.com/ca-en/products/category/technology/cloud-computing\n",
      "//www.ibm.com/ca-en/products/category/technology/mobile-technology\n",
      "//www.ibm.com/ca-en/products/category/technology/cognitive-computing-and-AI\n",
      "//www.ibm.com/ca-en/products/category/technology/IT-infrastructure\n",
      "//www.ibm.com/ca-en/products/category/technology/security\n",
      "//www.ibm.com/ca-en/products/category/technology/blockchain\n",
      "//www.ibm.com/ca-en/products/category/technology/IT-management\n",
      "//www.ibm.com/ca-en/products/category/technology/software-development\n",
      "//www.ibm.com/ca-en/products/category/technology/analytics\n",
      "//www.ibm.com/ca-en/products/category/technology/cloud-computing\n",
      "//www.ibm.com/ca-en/products/category/technology/mobile-technology\n",
      "//www.ibm.com/ca-en/products/category/technology/cognitive-computing-and-AI\n",
      "//www.ibm.com/ca-en/products/category/technology/IT-infrastructure\n",
      "//www.ibm.com/ca-en/products/category/technology/security\n",
      "//www.ibm.com/ca-en/products/category/technology/blockchain\n",
      "//www.ibm.com/ca-en/products/category/technology/IT-management\n",
      "//www.ibm.com/ca-en/products/category/technology/software-development\n",
      "//www.ibm.com/ca-en/products/category/business/business-operations\n",
      "//www.ibm.com/ca-en/products/category/business/content-management\n",
      "//www.ibm.com/ca-en/products/category/business/human-resources\n",
      "//www.ibm.com/ca-en/products/category/business/collaboration\n",
      "//www.ibm.com/ca-en/products/category/business/customer-service-and-CRM\n",
      "//www.ibm.com/ca-en/products/category/business/marketing\n",
      "//www.ibm.com/ca-en/products/category/business/commerce\n",
      "//www.ibm.com/ca-en/products/category/business/finance\n",
      "//www.ibm.com/ca-en/products/category/business/supply-chain-management\n",
      "https://www.ibm.com/cloud/watson-natural-language-understanding?lnk=hpv18cs1\n",
      "https://www.ibm.com/cloud/watson-natural-language-understanding?lnk=hpv18cs1\n",
      "https://www.ibm.com/cloud/watson-natural-language-understanding?lnk=hpv18cs1\n",
      "##\n",
      "https://www.ibm.com/cloud/watson-natural-language-understanding?lnk=hpv18cs1\n",
      "https://www.ibm.com/cloud/watson-natural-language-understanding?lnk=hpv18cs1\n",
      "##\n",
      "https://www.ibm.com/cloud/watson-natural-language-understanding?lnk=hpv18cs1\n",
      "https://www.ibm.com/cloud/watson-natural-language-understanding?lnk=hpv18cs1\n",
      "https://www.ibm.com/cloud/watson-natural-language-understanding?lnk=hpv18cs1\n",
      "https://www.ibm.com/employment/ca/en/?lnk=fab\n",
      "https://www.ibm.com/employment/ca/en/?lnk=fab\n",
      "https://www.ibm.com/ca-en/products?lnk=fdi-caen\n",
      "https://www.ibm.com/services/en-us/?lnk=fdi\n",
      "https://www.ibm.com/industries/en-us/?lnk=fdi\n",
      "https://www.ibm.com/case-studies?lnk=fdi\n",
      "https://www.ibm.com/partnerworld/wps/servlet/ContentHandler/partnerworld-home?lnk=mdev_pw_caen&lnk2=learn\n",
      "https://www.ibm.com/support/home/?lnk=msu_usen\n",
      "https://www.ibm.com/partnerworld/wps/bplocator/search.jsp?lnk=fcw-caen\n",
      "https://www.ibm.com/employment/ca/en/?lnk=fab_caen\n",
      "https://www.ibm.com/news/ca/en/?lnk=fab-caen\n",
      "https://www.ibm.com/blogs/ibm-canada/?lnk=fab-caen\n",
      "https://www.ibm.com/investor/?lnk=fab-caen\n",
      "https://www.ibm.com/ibm/responsibility/?lnk=fab-caen\n",
      "https://www.ibm.com/ca-en/about\n",
      "https://www.ibm.com/contact/ca/en/?lnk=flg-cont-caen\n",
      "https://www.ibm.com/privacy/ca/en/?lnk=flg-priv-caen\n",
      "https://www.ibm.com/ca-en/legal?lnk=flg-tous-caen\n",
      "https://www.ibm.com/accessibility/ca/en/?lnk=flg-acce-caen\n",
      "#\n"
     ]
    }
   ],
   "source": [
    "#To get all links in a website\n",
    "\n",
    "url=\"http://www.ibm.com\"\n",
    "data=requests.get(url).text\n",
    "soup=BeautifulSoup(data,'html5lib')\n",
    "for link in soup.find_all('a',href=True):\n",
    "    print(link.get('href'))"
   ]
  },
  {
   "cell_type": "markdown",
   "id": "4a465739",
   "metadata": {},
   "source": [
    "## Scrape data from HTML tables\n"
   ]
  },
  {
   "cell_type": "code",
   "execution_count": 18,
   "id": "48222090",
   "metadata": {},
   "outputs": [
    {
     "name": "stdout",
     "output_type": "stream",
     "text": [
      "Color Name---None\n",
      "lightsalmon---#FFA07A\n",
      "salmon---#FA8072\n",
      "darksalmon---#E9967A\n",
      "lightcoral---#F08080\n",
      "coral---#FF7F50\n",
      "tomato---#FF6347\n",
      "orangered---#FF4500\n",
      "gold---#FFD700\n",
      "orange---#FFA500\n",
      "darkorange---#FF8C00\n",
      "lightyellow---#FFFFE0\n",
      "lemonchiffon---#FFFACD\n",
      "papayawhip---#FFEFD5\n",
      "moccasin---#FFE4B5\n",
      "peachpuff---#FFDAB9\n",
      "palegoldenrod---#EEE8AA\n",
      "khaki---#F0E68C\n",
      "darkkhaki---#BDB76B\n",
      "yellow---#FFFF00\n",
      "lawngreen---#7CFC00\n",
      "chartreuse---#7FFF00\n",
      "limegreen---#32CD32\n",
      "lime---#00FF00\n",
      "forestgreen---#228B22\n",
      "green---#008000\n",
      "powderblue---#B0E0E6\n",
      "lightblue---#ADD8E6\n",
      "lightskyblue---#87CEFA\n",
      "skyblue---#87CEEB\n",
      "deepskyblue---#00BFFF\n",
      "lightsteelblue---#B0C4DE\n",
      "dodgerblue---#1E90FF\n"
     ]
    }
   ],
   "source": [
    "#Get all rows from the table using find and find_all\n",
    "url=\"https://cf-courses-data.s3.us.cloud-object-storage.appdomain.cloud/IBM-DA0321EN-SkillsNetwork/labs/datasets/HTMLColorCodes.html\"\n",
    "data=requests.get(url).text\n",
    "soup=BeautifulSoup(data,'html.parser')\n",
    "table=soup.find(\"table\")\n",
    "for row in table.find_all('tr'):\n",
    "    cols=row.find_all('td')\n",
    "    color_name=cols[2].string\n",
    "    color_code=cols[3].string\n",
    "    print(\"{}---{}\".format(color_name,color_code))"
   ]
  },
  {
   "cell_type": "markdown",
   "id": "fb7abf02",
   "metadata": {},
   "source": [
    "## Scrape data from HTML tables into a DataFrame using BeautifulSoup and Pandas\n"
   ]
  },
  {
   "cell_type": "code",
   "execution_count": 19,
   "id": "1de5741c",
   "metadata": {},
   "outputs": [
    {
     "name": "stdout",
     "output_type": "stream",
     "text": [
      "Collecting BeautifulSoup\n",
      "  Using cached https://files.pythonhosted.org/packages/40/f2/6c9f2f3e696ee6a1fb0e4d7850617e224ed2b0b1e872110abffeca2a09d4/BeautifulSoup-3.2.2.tar.gz\n",
      "\u001b[31m    ERROR: Complete output from command python setup.py egg_info:\u001b[0m\n",
      "\u001b[31m    ERROR: Traceback (most recent call last):\n",
      "      File \"<string>\", line 1, in <module>\n",
      "      File \"/tmp/pip-install-theilmrb/BeautifulSoup/setup.py\", line 3\n",
      "        \"You're trying to run a very old release of Beautiful Soup under Python 3. This will not work.\"<>\"Please use Beautiful Soup 4, available through the pip package 'beautifulsoup4'.\"\n",
      "                                                                                                        ^\n",
      "    SyntaxError: invalid syntax\n",
      "    ----------------------------------------\u001b[0m\n",
      "\u001b[31mERROR: Command \"python setup.py egg_info\" failed with error code 1 in /tmp/pip-install-theilmrb/BeautifulSoup/\u001b[0m\n",
      "5\n"
     ]
    }
   ],
   "source": [
    "!pip install BeautifulSoup\n",
    "import pandas as pd\n",
    "import requests\n",
    "from bs4 import BeautifulSoup\n",
    "url= \"https://en.wikipedia.org/wiki/World_population\" \n",
    "data=requests.get(url).text\n",
    "soup=BeautifulSoup(data,\"html5lib\")\n",
    "tables=soup.find_all('table')\n",
    "len(tables)\n",
    "for index,table in enumerate(tables):\n",
    "    if(\"10 most densely populated countries\" in str(table)):\n",
    "        table_index = index\n",
    "print(table_index)"
   ]
  },
  {
   "cell_type": "code",
   "execution_count": 20,
   "id": "9e0a7d12",
   "metadata": {},
   "outputs": [
    {
     "data": {
      "text/html": [
       "<div>\n",
       "<style scoped>\n",
       "    .dataframe tbody tr th:only-of-type {\n",
       "        vertical-align: middle;\n",
       "    }\n",
       "\n",
       "    .dataframe tbody tr th {\n",
       "        vertical-align: top;\n",
       "    }\n",
       "\n",
       "    .dataframe thead th {\n",
       "        text-align: right;\n",
       "    }\n",
       "</style>\n",
       "<table border=\"1\" class=\"dataframe\">\n",
       "  <thead>\n",
       "    <tr style=\"text-align: right;\">\n",
       "      <th></th>\n",
       "      <th>Rank</th>\n",
       "      <th>Country</th>\n",
       "      <th>Population</th>\n",
       "      <th>Area</th>\n",
       "      <th>Density</th>\n",
       "    </tr>\n",
       "  </thead>\n",
       "  <tbody>\n",
       "    <tr>\n",
       "      <th>0</th>\n",
       "      <td>1</td>\n",
       "      <td>Singapore</td>\n",
       "      <td>5,704,000</td>\n",
       "      <td>710</td>\n",
       "      <td>8,033</td>\n",
       "    </tr>\n",
       "    <tr>\n",
       "      <th>1</th>\n",
       "      <td>2</td>\n",
       "      <td>Bangladesh</td>\n",
       "      <td>170,480,000</td>\n",
       "      <td>143,998</td>\n",
       "      <td>1,184</td>\n",
       "    </tr>\n",
       "    <tr>\n",
       "      <th>2</th>\n",
       "      <td>3</td>\n",
       "      <td>Lebanon</td>\n",
       "      <td>6,856,000</td>\n",
       "      <td>10,452</td>\n",
       "      <td>656</td>\n",
       "    </tr>\n",
       "    <tr>\n",
       "      <th>3</th>\n",
       "      <td>4</td>\n",
       "      <td>Taiwan</td>\n",
       "      <td>23,604,000</td>\n",
       "      <td>36,193</td>\n",
       "      <td>652</td>\n",
       "    </tr>\n",
       "    <tr>\n",
       "      <th>4</th>\n",
       "      <td>5</td>\n",
       "      <td>South Korea</td>\n",
       "      <td>51,781,000</td>\n",
       "      <td>99,538</td>\n",
       "      <td>520</td>\n",
       "    </tr>\n",
       "    <tr>\n",
       "      <th>5</th>\n",
       "      <td>6</td>\n",
       "      <td>Rwanda</td>\n",
       "      <td>12,374,000</td>\n",
       "      <td>26,338</td>\n",
       "      <td>470</td>\n",
       "    </tr>\n",
       "    <tr>\n",
       "      <th>6</th>\n",
       "      <td>7</td>\n",
       "      <td>Haiti</td>\n",
       "      <td>11,578,000</td>\n",
       "      <td>27,065</td>\n",
       "      <td>428</td>\n",
       "    </tr>\n",
       "    <tr>\n",
       "      <th>7</th>\n",
       "      <td>8</td>\n",
       "      <td>Netherlands</td>\n",
       "      <td>17,580,000</td>\n",
       "      <td>41,526</td>\n",
       "      <td>423</td>\n",
       "    </tr>\n",
       "    <tr>\n",
       "      <th>8</th>\n",
       "      <td>9</td>\n",
       "      <td>Israel</td>\n",
       "      <td>9,340,000</td>\n",
       "      <td>22,072</td>\n",
       "      <td>423</td>\n",
       "    </tr>\n",
       "    <tr>\n",
       "      <th>9</th>\n",
       "      <td>10</td>\n",
       "      <td>India</td>\n",
       "      <td>1,375,630,000</td>\n",
       "      <td>3,287,240</td>\n",
       "      <td>418</td>\n",
       "    </tr>\n",
       "  </tbody>\n",
       "</table>\n",
       "</div>"
      ],
      "text/plain": [
       "  Rank       Country     Population       Area Density\n",
       "0    1     Singapore      5,704,000        710   8,033\n",
       "1    2    Bangladesh    170,480,000    143,998   1,184\n",
       "2    3       Lebanon      6,856,000     10,452     656\n",
       "3    4        Taiwan     23,604,000     36,193     652\n",
       "4    5   South Korea     51,781,000     99,538     520\n",
       "5    6        Rwanda     12,374,000     26,338     470\n",
       "6    7         Haiti     11,578,000     27,065     428\n",
       "7    8   Netherlands     17,580,000     41,526     423\n",
       "8    9        Israel      9,340,000     22,072     423\n",
       "9   10         India  1,375,630,000  3,287,240     418"
      ]
     },
     "execution_count": 20,
     "metadata": {},
     "output_type": "execute_result"
    }
   ],
   "source": [
    "\n",
    "population_data=pd.DataFrame(columns=[\"Rank\", \"Country\", \"Population\", \"Area\", \"Density\"])\n",
    "for row in tables[table_index].tbody.find_all(\"tr\"):\n",
    "    col=row.find_all(\"td\")\n",
    "    if(col!=[]):\n",
    "        rank = col[0].text\n",
    "        country = col[1].text\n",
    "        population = col[2].text.strip()\n",
    "        area = col[3].text.strip()\n",
    "        density = col[4].text.strip()\n",
    "        population_data = population_data.append({\"Rank\":rank, \"Country\":country, \"Population\":population, \"Area\":area, \"Density\":density}, ignore_index=True)\n",
    "\n",
    "population_data\n",
    "        "
   ]
  },
  {
   "cell_type": "markdown",
   "id": "a855f81a",
   "metadata": {},
   "source": [
    "## Scrape data from HTML tables into a DataFrame using BeautifulSoup and read_html\n"
   ]
  },
  {
   "cell_type": "code",
   "execution_count": 36,
   "id": "d0bc7b80",
   "metadata": {},
   "outputs": [
    {
     "data": {
      "text/html": [
       "<div>\n",
       "<style scoped>\n",
       "    .dataframe tbody tr th:only-of-type {\n",
       "        vertical-align: middle;\n",
       "    }\n",
       "\n",
       "    .dataframe tbody tr th {\n",
       "        vertical-align: top;\n",
       "    }\n",
       "\n",
       "    .dataframe thead th {\n",
       "        text-align: right;\n",
       "    }\n",
       "</style>\n",
       "<table border=\"1\" class=\"dataframe\">\n",
       "  <thead>\n",
       "    <tr style=\"text-align: right;\">\n",
       "      <th></th>\n",
       "      <th>Rank</th>\n",
       "      <th>Country</th>\n",
       "      <th>Population</th>\n",
       "      <th>Area(km2)</th>\n",
       "      <th>Density(pop/km2)</th>\n",
       "    </tr>\n",
       "  </thead>\n",
       "  <tbody>\n",
       "    <tr>\n",
       "      <th>0</th>\n",
       "      <td>1</td>\n",
       "      <td>Singapore</td>\n",
       "      <td>5704000</td>\n",
       "      <td>710</td>\n",
       "      <td>8033</td>\n",
       "    </tr>\n",
       "    <tr>\n",
       "      <th>1</th>\n",
       "      <td>2</td>\n",
       "      <td>Bangladesh</td>\n",
       "      <td>170480000</td>\n",
       "      <td>143998</td>\n",
       "      <td>1184</td>\n",
       "    </tr>\n",
       "    <tr>\n",
       "      <th>2</th>\n",
       "      <td>3</td>\n",
       "      <td>Lebanon</td>\n",
       "      <td>6856000</td>\n",
       "      <td>10452</td>\n",
       "      <td>656</td>\n",
       "    </tr>\n",
       "    <tr>\n",
       "      <th>3</th>\n",
       "      <td>4</td>\n",
       "      <td>Taiwan</td>\n",
       "      <td>23604000</td>\n",
       "      <td>36193</td>\n",
       "      <td>652</td>\n",
       "    </tr>\n",
       "    <tr>\n",
       "      <th>4</th>\n",
       "      <td>5</td>\n",
       "      <td>South Korea</td>\n",
       "      <td>51781000</td>\n",
       "      <td>99538</td>\n",
       "      <td>520</td>\n",
       "    </tr>\n",
       "    <tr>\n",
       "      <th>5</th>\n",
       "      <td>6</td>\n",
       "      <td>Rwanda</td>\n",
       "      <td>12374000</td>\n",
       "      <td>26338</td>\n",
       "      <td>470</td>\n",
       "    </tr>\n",
       "    <tr>\n",
       "      <th>6</th>\n",
       "      <td>7</td>\n",
       "      <td>Haiti</td>\n",
       "      <td>11578000</td>\n",
       "      <td>27065</td>\n",
       "      <td>428</td>\n",
       "    </tr>\n",
       "    <tr>\n",
       "      <th>7</th>\n",
       "      <td>8</td>\n",
       "      <td>Netherlands</td>\n",
       "      <td>17580000</td>\n",
       "      <td>41526</td>\n",
       "      <td>423</td>\n",
       "    </tr>\n",
       "    <tr>\n",
       "      <th>8</th>\n",
       "      <td>9</td>\n",
       "      <td>Israel</td>\n",
       "      <td>9340000</td>\n",
       "      <td>22072</td>\n",
       "      <td>423</td>\n",
       "    </tr>\n",
       "    <tr>\n",
       "      <th>9</th>\n",
       "      <td>10</td>\n",
       "      <td>India</td>\n",
       "      <td>1375630000</td>\n",
       "      <td>3287240</td>\n",
       "      <td>418</td>\n",
       "    </tr>\n",
       "  </tbody>\n",
       "</table>\n",
       "</div>"
      ],
      "text/plain": [
       "   Rank      Country  Population  Area(km2)  Density(pop/km2)\n",
       "0     1    Singapore     5704000        710              8033\n",
       "1     2   Bangladesh   170480000     143998              1184\n",
       "2     3      Lebanon     6856000      10452               656\n",
       "3     4       Taiwan    23604000      36193               652\n",
       "4     5  South Korea    51781000      99538               520\n",
       "5     6       Rwanda    12374000      26338               470\n",
       "6     7        Haiti    11578000      27065               428\n",
       "7     8  Netherlands    17580000      41526               423\n",
       "8     9       Israel     9340000      22072               423\n",
       "9    10        India  1375630000    3287240               418"
      ]
     },
     "execution_count": 36,
     "metadata": {},
     "output_type": "execute_result"
    }
   ],
   "source": [
    "import pandas as pd\n",
    "population_data_read_html = pd.read_html(str(tables[5]), flavor='bs4')[0]\n",
    "\n",
    "population_data_read_html"
   ]
  },
  {
   "cell_type": "markdown",
   "id": "4e3cca69",
   "metadata": {},
   "source": [
    "## Scrape data from HTML tables into a DataFrame using read_html\n"
   ]
  },
  {
   "cell_type": "code",
   "execution_count": 38,
   "id": "9d16b061",
   "metadata": {},
   "outputs": [
    {
     "data": {
      "text/plain": [
       "26"
      ]
     },
     "execution_count": 38,
     "metadata": {},
     "output_type": "execute_result"
    }
   ],
   "source": [
    "dataframe_list = pd.read_html(url, flavor='bs4')\n",
    "len(dataframe_list)"
   ]
  },
  {
   "cell_type": "code",
   "execution_count": 39,
   "id": "ce333aea",
   "metadata": {},
   "outputs": [
    {
     "data": {
      "text/html": [
       "<div>\n",
       "<style scoped>\n",
       "    .dataframe tbody tr th:only-of-type {\n",
       "        vertical-align: middle;\n",
       "    }\n",
       "\n",
       "    .dataframe tbody tr th {\n",
       "        vertical-align: top;\n",
       "    }\n",
       "\n",
       "    .dataframe thead tr th {\n",
       "        text-align: left;\n",
       "    }\n",
       "</style>\n",
       "<table border=\"1\" class=\"dataframe\">\n",
       "  <thead>\n",
       "    <tr>\n",
       "      <th></th>\n",
       "      <th>Year</th>\n",
       "      <th>Population</th>\n",
       "      <th colspan=\"2\" halign=\"left\">Yearly change</th>\n",
       "      <th>Density(pop/km2)</th>\n",
       "      <th colspan=\"2\" halign=\"left\">Urban population</th>\n",
       "    </tr>\n",
       "    <tr>\n",
       "      <th></th>\n",
       "      <th>Year</th>\n",
       "      <th>Population</th>\n",
       "      <th>%</th>\n",
       "      <th>Number</th>\n",
       "      <th>Density(pop/km2)</th>\n",
       "      <th>Number</th>\n",
       "      <th>%</th>\n",
       "    </tr>\n",
       "  </thead>\n",
       "  <tbody>\n",
       "    <tr>\n",
       "      <th>0</th>\n",
       "      <td>1951</td>\n",
       "      <td>2584034261</td>\n",
       "      <td>1.88%</td>\n",
       "      <td>47603112</td>\n",
       "      <td>17</td>\n",
       "      <td>775067697</td>\n",
       "      <td>30%</td>\n",
       "    </tr>\n",
       "    <tr>\n",
       "      <th>1</th>\n",
       "      <td>1952</td>\n",
       "      <td>2630861562</td>\n",
       "      <td>1.81%</td>\n",
       "      <td>46827301</td>\n",
       "      <td>18</td>\n",
       "      <td>799282533</td>\n",
       "      <td>30%</td>\n",
       "    </tr>\n",
       "    <tr>\n",
       "      <th>2</th>\n",
       "      <td>1953</td>\n",
       "      <td>2677608960</td>\n",
       "      <td>1.78%</td>\n",
       "      <td>46747398</td>\n",
       "      <td>18</td>\n",
       "      <td>824289989</td>\n",
       "      <td>31%</td>\n",
       "    </tr>\n",
       "    <tr>\n",
       "      <th>3</th>\n",
       "      <td>1954</td>\n",
       "      <td>2724846741</td>\n",
       "      <td>1.76%</td>\n",
       "      <td>47237781</td>\n",
       "      <td>18</td>\n",
       "      <td>850179106</td>\n",
       "      <td>31%</td>\n",
       "    </tr>\n",
       "    <tr>\n",
       "      <th>4</th>\n",
       "      <td>1955</td>\n",
       "      <td>2773019936</td>\n",
       "      <td>1.77%</td>\n",
       "      <td>48173195</td>\n",
       "      <td>19</td>\n",
       "      <td>877008842</td>\n",
       "      <td>32%</td>\n",
       "    </tr>\n",
       "    <tr>\n",
       "      <th>...</th>\n",
       "      <td>...</td>\n",
       "      <td>...</td>\n",
       "      <td>...</td>\n",
       "      <td>...</td>\n",
       "      <td>...</td>\n",
       "      <td>...</td>\n",
       "      <td>...</td>\n",
       "    </tr>\n",
       "    <tr>\n",
       "      <th>65</th>\n",
       "      <td>2016</td>\n",
       "      <td>7464022000</td>\n",
       "      <td>1.14%</td>\n",
       "      <td>84225000</td>\n",
       "      <td>50</td>\n",
       "      <td>4060653000</td>\n",
       "      <td>54%</td>\n",
       "    </tr>\n",
       "    <tr>\n",
       "      <th>66</th>\n",
       "      <td>2017</td>\n",
       "      <td>7547859000</td>\n",
       "      <td>1.12%</td>\n",
       "      <td>83837000</td>\n",
       "      <td>51</td>\n",
       "      <td>4140189000</td>\n",
       "      <td>55%</td>\n",
       "    </tr>\n",
       "    <tr>\n",
       "      <th>67</th>\n",
       "      <td>2018</td>\n",
       "      <td>7631091000</td>\n",
       "      <td>1.10%</td>\n",
       "      <td>83232000</td>\n",
       "      <td>51</td>\n",
       "      <td>4219817000</td>\n",
       "      <td>55%</td>\n",
       "    </tr>\n",
       "    <tr>\n",
       "      <th>68</th>\n",
       "      <td>2019</td>\n",
       "      <td>7713468000</td>\n",
       "      <td>1.08%</td>\n",
       "      <td>82377000</td>\n",
       "      <td>52</td>\n",
       "      <td>4299439000</td>\n",
       "      <td>56%</td>\n",
       "    </tr>\n",
       "    <tr>\n",
       "      <th>69</th>\n",
       "      <td>2020</td>\n",
       "      <td>7795000000</td>\n",
       "      <td>1.05%</td>\n",
       "      <td>81331000</td>\n",
       "      <td>52</td>\n",
       "      <td>4378900000</td>\n",
       "      <td>56%</td>\n",
       "    </tr>\n",
       "  </tbody>\n",
       "</table>\n",
       "<p>70 rows × 7 columns</p>\n",
       "</div>"
      ],
      "text/plain": [
       "    Year  Population Yearly change           Density(pop/km2)  \\\n",
       "    Year  Population             %    Number Density(pop/km2)   \n",
       "0   1951  2584034261         1.88%  47603112               17   \n",
       "1   1952  2630861562         1.81%  46827301               18   \n",
       "2   1953  2677608960         1.78%  46747398               18   \n",
       "3   1954  2724846741         1.76%  47237781               18   \n",
       "4   1955  2773019936         1.77%  48173195               19   \n",
       "..   ...         ...           ...       ...              ...   \n",
       "65  2016  7464022000         1.14%  84225000               50   \n",
       "66  2017  7547859000         1.12%  83837000               51   \n",
       "67  2018  7631091000         1.10%  83232000               51   \n",
       "68  2019  7713468000         1.08%  82377000               52   \n",
       "69  2020  7795000000         1.05%  81331000               52   \n",
       "\n",
       "   Urban population       \n",
       "             Number    %  \n",
       "0         775067697  30%  \n",
       "1         799282533  30%  \n",
       "2         824289989  31%  \n",
       "3         850179106  31%  \n",
       "4         877008842  32%  \n",
       "..              ...  ...  \n",
       "65       4060653000  54%  \n",
       "66       4140189000  55%  \n",
       "67       4219817000  55%  \n",
       "68       4299439000  56%  \n",
       "69       4378900000  56%  \n",
       "\n",
       "[70 rows x 7 columns]"
      ]
     },
     "execution_count": 39,
     "metadata": {},
     "output_type": "execute_result"
    }
   ],
   "source": [
    "dataframe_list[7]"
   ]
  },
  {
   "cell_type": "code",
   "execution_count": 43,
   "id": "cf69baed",
   "metadata": {},
   "outputs": [
    {
     "data": {
      "text/html": [
       "<div>\n",
       "<style scoped>\n",
       "    .dataframe tbody tr th:only-of-type {\n",
       "        vertical-align: middle;\n",
       "    }\n",
       "\n",
       "    .dataframe tbody tr th {\n",
       "        vertical-align: top;\n",
       "    }\n",
       "\n",
       "    .dataframe thead th {\n",
       "        text-align: right;\n",
       "    }\n",
       "</style>\n",
       "<table border=\"1\" class=\"dataframe\">\n",
       "  <thead>\n",
       "    <tr style=\"text-align: right;\">\n",
       "      <th></th>\n",
       "      <th>Rank</th>\n",
       "      <th>Country</th>\n",
       "      <th>Population</th>\n",
       "      <th>Area(km2)</th>\n",
       "      <th>Density(pop/km2)</th>\n",
       "    </tr>\n",
       "  </thead>\n",
       "  <tbody>\n",
       "    <tr>\n",
       "      <th>0</th>\n",
       "      <td>1</td>\n",
       "      <td>Singapore</td>\n",
       "      <td>5704000</td>\n",
       "      <td>710</td>\n",
       "      <td>8033</td>\n",
       "    </tr>\n",
       "    <tr>\n",
       "      <th>1</th>\n",
       "      <td>2</td>\n",
       "      <td>Bangladesh</td>\n",
       "      <td>170480000</td>\n",
       "      <td>143998</td>\n",
       "      <td>1184</td>\n",
       "    </tr>\n",
       "    <tr>\n",
       "      <th>2</th>\n",
       "      <td>3</td>\n",
       "      <td>Lebanon</td>\n",
       "      <td>6856000</td>\n",
       "      <td>10452</td>\n",
       "      <td>656</td>\n",
       "    </tr>\n",
       "    <tr>\n",
       "      <th>3</th>\n",
       "      <td>4</td>\n",
       "      <td>Taiwan</td>\n",
       "      <td>23604000</td>\n",
       "      <td>36193</td>\n",
       "      <td>652</td>\n",
       "    </tr>\n",
       "    <tr>\n",
       "      <th>4</th>\n",
       "      <td>5</td>\n",
       "      <td>South Korea</td>\n",
       "      <td>51781000</td>\n",
       "      <td>99538</td>\n",
       "      <td>520</td>\n",
       "    </tr>\n",
       "    <tr>\n",
       "      <th>5</th>\n",
       "      <td>6</td>\n",
       "      <td>Rwanda</td>\n",
       "      <td>12374000</td>\n",
       "      <td>26338</td>\n",
       "      <td>470</td>\n",
       "    </tr>\n",
       "    <tr>\n",
       "      <th>6</th>\n",
       "      <td>7</td>\n",
       "      <td>Haiti</td>\n",
       "      <td>11578000</td>\n",
       "      <td>27065</td>\n",
       "      <td>428</td>\n",
       "    </tr>\n",
       "    <tr>\n",
       "      <th>7</th>\n",
       "      <td>8</td>\n",
       "      <td>Netherlands</td>\n",
       "      <td>17580000</td>\n",
       "      <td>41526</td>\n",
       "      <td>423</td>\n",
       "    </tr>\n",
       "    <tr>\n",
       "      <th>8</th>\n",
       "      <td>9</td>\n",
       "      <td>Israel</td>\n",
       "      <td>9340000</td>\n",
       "      <td>22072</td>\n",
       "      <td>423</td>\n",
       "    </tr>\n",
       "    <tr>\n",
       "      <th>9</th>\n",
       "      <td>10</td>\n",
       "      <td>India</td>\n",
       "      <td>1375630000</td>\n",
       "      <td>3287240</td>\n",
       "      <td>418</td>\n",
       "    </tr>\n",
       "  </tbody>\n",
       "</table>\n",
       "</div>"
      ],
      "text/plain": [
       "   Rank      Country  Population  Area(km2)  Density(pop/km2)\n",
       "0     1    Singapore     5704000        710              8033\n",
       "1     2   Bangladesh   170480000     143998              1184\n",
       "2     3      Lebanon     6856000      10452               656\n",
       "3     4       Taiwan    23604000      36193               652\n",
       "4     5  South Korea    51781000      99538               520\n",
       "5     6       Rwanda    12374000      26338               470\n",
       "6     7        Haiti    11578000      27065               428\n",
       "7     8  Netherlands    17580000      41526               423\n",
       "8     9       Israel     9340000      22072               423\n",
       "9    10        India  1375630000    3287240               418"
      ]
     },
     "execution_count": 43,
     "metadata": {},
     "output_type": "execute_result"
    }
   ],
   "source": [
    "pd.read_html(url, match=\"10 most densely populated countries\", flavor='bs4')[0]"
   ]
  },
  {
   "cell_type": "code",
   "execution_count": null,
   "id": "f129b1a2",
   "metadata": {},
   "outputs": [],
   "source": []
  }
 ],
 "metadata": {
  "kernelspec": {
   "display_name": "Python",
   "language": "python",
   "name": "conda-env-python-py"
  },
  "language_info": {
   "codemirror_mode": {
    "name": "ipython",
    "version": 3
   },
   "file_extension": ".py",
   "mimetype": "text/x-python",
   "name": "python",
   "nbconvert_exporter": "python",
   "pygments_lexer": "ipython3",
   "version": "3.6.13"
  }
 },
 "nbformat": 4,
 "nbformat_minor": 5
}
